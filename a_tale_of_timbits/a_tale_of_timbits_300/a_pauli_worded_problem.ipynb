{
 "cells": [
  {
   "cell_type": "markdown",
   "id": "6656c392",
   "metadata": {},
   "source": [
    "## Challenge code\n",
    " \n",
    " In the code below, you are given various functions:\n",
    " - `word_dist`: which counts the number of non-identity operators in a\n",
    "   Pauli word.\n",
    " - `abs_dist`: which computes the distance $\\vert \\rho - \\sigma \\vert$ between density matrices (`rho` and `sigma`).\n",
    " - `noisy_Pauli_density`: a helper subcircuit which produces the density matrix $\\rho_P$\n",
    "   associated with a Pauli word $P$ (`word`) and applies depolarizing\n",
    "   noise to each qubit with parameter `lmbda`. It is merely a\n",
    "   collection of gates, and should not return anything. **You must complete this function**.\n",
    " - `maxmix_trace_dist`: a helper function which calculates the trace distance\n",
    "   $T(\\rho_P(\\lambda), \\rho_0)$, from the noisy\n",
    "   $\\rho_Q$ (specified by `word` and `lmbda`) to the maximally mixed\n",
    "   density $\\rho_0.$ **You must complete this function**.\n",
    " - `bound_verifier`: a function which computes the difference\n",
    " $$(1-\\lambda)^{|P|} - T(\\rho_P(\\lambda), \\rho_0),$$ with both terms specified by `lmbda` and `P`. **You must complete this function**.\n",
    " \n",
    " ### Inputs\n",
    " \n",
    " The functions `noisy_Pauli_density`, `maxmix_trace_dist` and `bound_verifier` take as input a\n",
    " Pauli word  (`word (str)`) represented as a string of characters `I`,\n",
    " `X`, `Y` and `Z`, and a noise parameter `lmbda (float)` giving\n",
    " probability of erasing the state of a qubit.\n",
    " \n",
    " Note that, for `noisy_Pauli_density`, you are working with the\n",
    " `default.mixed` device and can create a density matrix using\n",
    " [`qml.QubitDensityMatrix`](https://docs.pennylane.ai/en/stable/code/api/pennylane.QubitDensityMatrix.html).\n",
    " \n",
    " ### Output\n",
    " \n",
    " Your function `bound_verifier` must correctly compute the difference between the upper bound $(1 - \\lambda)^{|P|}$ and the trace distance $T(\\rho_P(\\lambda), \\rho_0)$ on test cases.\n",
    " \n",
    " If your solution matches the correct one within the given tolerance\n",
    " specified in `check` (in this case it's a `1e-4` relative error\n",
    " tolerance), the output will be `\"Correct!\"` Otherwise, you will\n",
    " receive a `\"Wrong answer\"` prompt.\n",
    " ### Imports\n",
    " The cell below specifies the libraries you should use in this challenge. Run the cell to import the libraries. ***Do not modify the cell.***"
   ]
  },
  {
   "cell_type": "code",
   "execution_count": 3,
   "id": "aaa91ac6",
   "metadata": {},
   "outputs": [],
   "source": [
    "import json\n",
    "from pennylane import numpy as np\n",
    "import pennylane as qml\n",
    "import scipy"
   ]
  },
  {
   "cell_type": "markdown",
   "id": "426ba5bf",
   "metadata": {},
   "source": [
    "### Code\n",
    " Complete the code below. Note that during QHack, some sections were not editable. We've marked those sections accordingly here, but you can still edit them if you wish."
   ]
  },
  {
   "cell_type": "code",
   "execution_count": 128,
   "id": "496c1879",
   "metadata": {},
   "outputs": [],
   "source": [
    "# Uneditable section #\n",
    "\n",
    "def abs_dist(rho, sigma):\n",
    "    \"\"\"A function to compute the absolute value |rho - sigma|.\"\"\"\n",
    "    polar = scipy.linalg.polar(rho - sigma)\n",
    "    return polar[1]\n",
    "\n",
    "def word_dist(word):\n",
    "    \"\"\"A function which counts the non-identity operators in a Pauli word\"\"\"\n",
    "    return sum(word[i] != \"I\" for i in range(len(word)))\n",
    "\n",
    "\n",
    "# Produce the Pauli density for a given Pauli word and apply noise\n",
    "\n",
    "def noisy_Pauli_density(word, lmbda):\n",
    "    \"\"\"\n",
    "       A subcircuit which prepares a density matrix (I + P)/2**n for a given Pauli\n",
    "       word P, and applies depolarizing noise to each qubit. Nothing is returned.\n",
    "\n",
    "    Args:\n",
    "            word (str): A Pauli word represented as a string with characters I,  X, Y and Z.\n",
    "            lmbda (float): The probability of replacing a qubit with something random.\n",
    "    \"\"\"\n",
    "\n",
    "    # End of uneditable section #\n",
    "    # Put your code here #\n",
    "    n = len(word)\n",
    "    l = list(range(n))\n",
    "    density_matrix = (np.eye(2**n) + qml.matrix(qml.pauli.string_to_pauli_word(word), wire_order=l))/(2**n)\n",
    "\n",
    "    qml.QubitDensityMatrix(density_matrix, wires=l)\n",
    "    qml.broadcast(qml.DepolarizingChannel, pattern=\"single\", wires=l, parameters=[lmbda for _ in l])    \n",
    "\n",
    "# Uneditable section #\n",
    "        "
   ]
  },
  {
   "cell_type": "code",
   "execution_count": 129,
   "id": "9bc6aa2b-cdcb-43ac-ad63-02086babc30f",
   "metadata": {},
   "outputs": [
    {
     "data": {
      "text/plain": [
       "array([[0.125     +0.j, 0.        +0.j, 0.        +0.j, 0.        +0.j,\n",
       "        0.        +0.j, 0.        +0.j, 0.00055556+0.j, 0.        +0.j],\n",
       "       [0.        +0.j, 0.125     +0.j, 0.        +0.j, 0.        +0.j,\n",
       "        0.        +0.j, 0.        +0.j, 0.        +0.j, 0.00055556+0.j],\n",
       "       [0.        +0.j, 0.        +0.j, 0.125     +0.j, 0.        +0.j,\n",
       "        0.00055556+0.j, 0.        +0.j, 0.        +0.j, 0.        +0.j],\n",
       "       [0.        +0.j, 0.        +0.j, 0.        +0.j, 0.125     +0.j,\n",
       "        0.        +0.j, 0.00055556+0.j, 0.        +0.j, 0.        +0.j],\n",
       "       [0.        +0.j, 0.        +0.j, 0.00055556+0.j, 0.        +0.j,\n",
       "        0.125     +0.j, 0.        +0.j, 0.        +0.j, 0.        +0.j],\n",
       "       [0.        +0.j, 0.        +0.j, 0.        +0.j, 0.00055556+0.j,\n",
       "        0.        +0.j, 0.125     +0.j, 0.        +0.j, 0.        +0.j],\n",
       "       [0.00055556+0.j, 0.        +0.j, 0.        +0.j, 0.        +0.j,\n",
       "        0.        +0.j, 0.        +0.j, 0.125     +0.j, 0.        +0.j],\n",
       "       [0.        +0.j, 0.00055556+0.j, 0.        +0.j, 0.        +0.j,\n",
       "        0.        +0.j, 0.        +0.j, 0.        +0.j, 0.125     +0.j]])"
      ]
     },
     "metadata": {},
     "output_type": "display_data"
    },
    {
     "data": {
      "text/plain": [
       "tensor([[0.125, 0.   , 0.   , 0.   , 0.   , 0.   , 0.   , 0.   ],\n",
       "        [0.   , 0.125, 0.   , 0.   , 0.   , 0.   , 0.   , 0.   ],\n",
       "        [0.   , 0.   , 0.125, 0.   , 0.   , 0.   , 0.   , 0.   ],\n",
       "        [0.   , 0.   , 0.   , 0.125, 0.   , 0.   , 0.   , 0.   ],\n",
       "        [0.   , 0.   , 0.   , 0.   , 0.125, 0.   , 0.   , 0.   ],\n",
       "        [0.   , 0.   , 0.   , 0.   , 0.   , 0.125, 0.   , 0.   ],\n",
       "        [0.   , 0.   , 0.   , 0.   , 0.   , 0.   , 0.125, 0.   ],\n",
       "        [0.   , 0.   , 0.   , 0.   , 0.   , 0.   , 0.   , 0.125]], requires_grad=True)"
      ]
     },
     "metadata": {},
     "output_type": "display_data"
    }
   ],
   "source": [
    "word = 'XXI'\n",
    "dev = qml.device(\"default.mixed\", wires=len(word))\n",
    "\n",
    "@qml.qnode(dev)\n",
    "def circuit():\n",
    "    noisy_Pauli_density(word, 0.7)\n",
    "    return qml.density_matrix(wires=range(len(word)))\n",
    "\n",
    "display(circuit())\n",
    "display(np.eye(2**len(word))/(2**len(word)))"
   ]
  },
  {
   "cell_type": "code",
   "execution_count": 130,
   "id": "793a8089-b097-43d2-bc81-6f25763369cb",
   "metadata": {},
   "outputs": [],
   "source": [
    "# Compute the trace distance from a noisy Pauli density to the maximally mixed density\n",
    "\n",
    "def maxmix_trace_dist(word, lmbda):\n",
    "    \"\"\"\n",
    "       A function compute the trace distance between a noisy density matrix, specified\n",
    "       by a Pauli word, and the maximally mixed matrix.\n",
    "\n",
    "    Args:\n",
    "            word (str): A Pauli word represented as a string with characters I, X, Y and Z.\n",
    "            lmbda (float): The probability of replacing a qubit with something random.\n",
    "\n",
    "    Returns:\n",
    "            float: The trace distance between two matrices encoding Pauli words.\n",
    "    \"\"\"\n",
    "\n",
    "    # End of uneditable section #\n",
    "\n",
    "\n",
    "    # Put your code here #\n",
    "    dev = qml.device(\"default.mixed\", wires=len(word))\n",
    "\n",
    "    @qml.qnode(dev)\n",
    "    def circuit():\n",
    "        noisy_Pauli_density(word, lmbda)\n",
    "        return qml.density_matrix(wires=range(len(word)))\n",
    "\n",
    "    maximally_mixed = np.eye(2**len(word))/(2**len(word))\n",
    "    #print(f'{density_matrix}-{maximally_mixed}={density_matrix-maximally_mixed}')\n",
    "    return 0.5*np.trace(abs_dist(circuit(), maximally_mixed))\n"
   ]
  },
  {
   "cell_type": "code",
   "execution_count": 131,
   "id": "e52ee9a7-3783-4fdc-87c6-027970eb2214",
   "metadata": {},
   "outputs": [],
   "source": [
    "# Uneditable section #\n",
    "\n",
    "def bound_verifier(word, lmbda):\n",
    "    \"\"\"\n",
    "       A simple check function which verifies the trace distance from a noisy Pauli density\n",
    "       to the maximally mixed matrix is bounded by (1 - lambda)^|P|.\n",
    "\n",
    "    Args:\n",
    "            word (str): A Pauli word represented as a string with characters I, X, Y and Z.\n",
    "            lmbda (float): The probability of replacing a qubit with something random.\n",
    "\n",
    "    Returns:\n",
    "            float: The difference between (1 - lambda)^|P| and T(rho_P(lambda), rho_0).\n",
    "    \"\"\"\n",
    "\n",
    "    # End of uneditable section #\n",
    "    p = word_dist(word)\n",
    "    # Put your code here #\n",
    "    return (1-lmbda)**p-maxmix_trace_dist(word, lmbda)"
   ]
  },
  {
   "cell_type": "markdown",
   "id": "7c11e863",
   "metadata": {},
   "source": [
    "These functions are responsible for testing the solution. You will need to run the cell below. ***Do not modify the cell.***"
   ]
  },
  {
   "cell_type": "code",
   "execution_count": 78,
   "id": "e5412cff",
   "metadata": {},
   "outputs": [],
   "source": [
    "def run(test_case_input: str) -> str:\n",
    "\n",
    "    word, lmbda = json.loads(test_case_input)\n",
    "    output = np.real(bound_verifier(word, lmbda))\n",
    "\n",
    "    return str(output)\n",
    "\n",
    "\n",
    "def check(solution_output: str, expected_output: str) -> None:\n",
    "\n",
    "    solution_output = json.loads(solution_output)\n",
    "    expected_output = json.loads(expected_output)\n",
    "    assert np.allclose(\n",
    "        solution_output, expected_output, rtol=1e-4\n",
    "    ), \"Your trace distance isn't quite right!\""
   ]
  },
  {
   "cell_type": "markdown",
   "id": "04ecb7eb",
   "metadata": {},
   "source": [
    "### Test cases\n",
    " Running the cell below will load the test cases. ***Do not modify the cell***.\n",
    " - input: [\"XXI\", 0.7]\n",
    " \t+ expected output: 0.0877777777777777\n",
    " - input: [\"XXIZ\", 0.1]\n",
    " \t+ expected output: 0.4035185185185055\n",
    " - input: [\"YIZ\", 0.3]\n",
    " \t+ expected output: 0.30999999999999284\n",
    " - input: [\"ZZZZZZZXXX\", 0.1]\n",
    " \t+ expected output: 0.22914458207245006\n",
    " - input: [\"XZIXZIYY\", 0.8]\n",
    " \t+ expected output: 6.395610425240046e-05\n",
    " - input: [\"ZZZZZZZZZZ\", 0.1]\n",
    " \t+ expected output: 0.22914458207245003"
   ]
  },
  {
   "cell_type": "code",
   "execution_count": 41,
   "id": "c1041a57",
   "metadata": {},
   "outputs": [],
   "source": [
    "test_cases = [['[\"XXI\", 0.7]', '0.0877777777777777'], ['[\"XXIZ\", 0.1]', '0.4035185185185055'], ['[\"YIZ\", 0.3]', '0.30999999999999284'], ['[\"ZZZZZZZXXX\", 0.1]', '0.22914458207245006'], ['[\"XZIXZIYY\", 0.8]', '6.395610425240046e-05'], ['[\"ZZZZZZZZZZ\", 0.1]', '0.22914458207245003']]"
   ]
  },
  {
   "cell_type": "markdown",
   "id": "10a67576",
   "metadata": {},
   "source": [
    "### Solution testing\n",
    " Once you have run every cell above, including the one with your code, the cell below will test your solution. Run the cell. If you are correct for all of the test cases, it means your solutions is correct. Otherwise, you need to double check your work. ***Do not modify the cell below.***"
   ]
  },
  {
   "cell_type": "code",
   "execution_count": 132,
   "id": "c88c082b",
   "metadata": {},
   "outputs": [
    {
     "name": "stdout",
     "output_type": "stream",
     "text": [
      "Running test case 0 with input '[\"XXI\", 0.7]'...\n",
      "Correct!\n",
      "Running test case 1 with input '[\"XXIZ\", 0.1]'...\n",
      "Correct!\n",
      "Running test case 2 with input '[\"YIZ\", 0.3]'...\n",
      "Correct!\n",
      "Running test case 3 with input '[\"ZZZZZZZXXX\", 0.1]'...\n",
      "Correct!\n",
      "Running test case 4 with input '[\"XZIXZIYY\", 0.8]'...\n",
      "Correct!\n",
      "Running test case 5 with input '[\"ZZZZZZZZZZ\", 0.1]'...\n",
      "Correct!\n"
     ]
    }
   ],
   "source": [
    "for i, (input_, expected_output) in enumerate(test_cases):\n",
    "    print(f\"Running test case {i} with input '{input_}'...\")\n",
    "\n",
    "    try:\n",
    "        output = run(input_)\n",
    "\n",
    "    except Exception as exc:\n",
    "        print(f\"Runtime Error. {exc}\")\n",
    "\n",
    "    else:\n",
    "        if message := check(output, expected_output):\n",
    "            print(f\"Wrong Answer. Have: '{output}'. Want: '{expected_output}'.\")\n",
    "\n",
    "        else:\n",
    "            print(\"Correct!\")"
   ]
  },
  {
   "cell_type": "code",
   "execution_count": null,
   "id": "014f5149-c4be-419c-9654-581cbddf04dd",
   "metadata": {},
   "outputs": [],
   "source": []
  }
 ],
 "metadata": {
  "kernelspec": {
   "display_name": "Python 3 (ipykernel)",
   "language": "python",
   "name": "python3"
  },
  "language_info": {
   "codemirror_mode": {
    "name": "ipython",
    "version": 3
   },
   "file_extension": ".py",
   "mimetype": "text/x-python",
   "name": "python",
   "nbconvert_exporter": "python",
   "pygments_lexer": "ipython3",
   "version": "3.12.1"
  }
 },
 "nbformat": 4,
 "nbformat_minor": 5
}
