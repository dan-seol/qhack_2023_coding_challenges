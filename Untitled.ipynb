{
 "cells": [
  {
   "cell_type": "code",
   "execution_count": 1,
   "id": "89f86986-d2a9-4d16-a7b3-4dac1cfa0035",
   "metadata": {},
   "outputs": [],
   "source": [
    "from collections.abc import Generator\n",
    "\n",
    "import pyzx\n",
    "import pennylane as qml\n",
    "from pennylane import numpy as np"
   ]
  },
  {
   "cell_type": "code",
   "execution_count": 2,
   "id": "566a675c-567f-4c9f-9374-8197a61cdbb5",
   "metadata": {},
   "outputs": [],
   "source": [
    "# Quantum RPN calculator with ZX calculus\n",
    "# q_1(n1) q_2(n2) op -> could we resolve the number of qubits needed?\n",
    "# resolve 'q_1(n1) q_2(n2) +' = q_3(2*max(n1, n2)+1)\n",
    "# resolve 'q_1(n1) q_2(n2) -' = 'complement(q_1(n1) q_2(n2) +)' = q_3(2*max(n1, n2)+1)\n",
    "# resolve 'q_1(n1) q_2(n2) *' = q_3(4*max(n1, n2)+1)\n",
    "# resolve 'q_1(n1) q_2(n2) /' = q_3(3*max(n1, n2))"
   ]
  },
  {
   "cell_type": "code",
   "execution_count": 3,
   "id": "05449e33-8c82-43d8-b1db-37a1198798eb",
   "metadata": {},
   "outputs": [],
   "source": [
    "def get_bit_field(k: int) -> Generator:\n",
    "    for digit in bin(k)[2:]:\n",
    "        yield 1 if digit=='1' else 0\n",
    "\n",
    "\n",
    "def pad_zero(bit_field, pad_size: int) -> Generator:\n",
    "    if pad_size > 0:\n",
    "        for _ in range(pad_size):\n",
    "            yield 0\n",
    "    for bit in bit_field:\n",
    "        yield bit\n",
    "\n",
    "\n",
    "def pre_process(a, b) -> tuple[list[int], list[int]]:\n",
    "    if isinstance(a, int):\n",
    "        a = list(get_bit_field(a))\n",
    "    if isinstance(b, int):\n",
    "        b = list(get_bit_field(b))\n",
    "    if len(a) != len(b):\n",
    "        a = list(pad_zero(a, len(b)-len(a)))\n",
    "        b = list(pad_zero(b, len(a)-len(b)))\n",
    "    return a, b\n",
    "\n",
    "\n",
    "def did_padding_work(a, b):\n",
    "    assert len(a) == len(b)\n",
    "    return len(a)"
   ]
  },
  {
   "cell_type": "code",
   "execution_count": 189,
   "id": "f232b500-e759-4c6a-8c63-34ff2e973920",
   "metadata": {},
   "outputs": [],
   "source": [
    "def load_to_wires(value, control, wires):\n",
    "    for j, wire in enumerate(wires):\n",
    "        qml.CRZ(value * np.pi / (2**j), wires=[control, wire])\n",
    "\n",
    "\n",
    "def add_(a_wires, b_wires, qft_wires):\n",
    "    qml.QFT(qft_wires)\n",
    "\n",
    "    # add a to the counter\n",
    "    for i, a_wire in enumerate(a_wires):\n",
    "        load_to_wires(2**(len(a_wires) - i - 1), a_wire, qft_wires)\n",
    "\n",
    "    # add b to the counter\n",
    "    for i, b_wire in enumerate(b_wires):\n",
    "        load_to_wires(2**(len(b_wires) - i - 1), b_wire, qft_wires)\n",
    "\n",
    "    # return to computational basis\n",
    "    qml.adjoint(qml.QFT)(wires=qft_wires)\n",
    "\n",
    "\n",
    "def add(a: int|list, b: int|list) -> (np.tensor, dict):\n",
    "    a, b = pre_process(a, b)\n",
    "    n = did_padding_work(a, b)\n",
    "    num_wires = 3*n + 1\n",
    "\n",
    "    dev = qml.device(\"default.qubit\", wires=num_wires, shots=1)\n",
    "    @qml.qnode(dev)\n",
    "    def circuit():\n",
    "        total_wires=list(range(num_wires))\n",
    "        a_wires = total_wires[:n]\n",
    "        b_wires = total_wires[n:2*n]\n",
    "        qft_wires = total_wires[2*n:]\n",
    "\n",
    "        qml.BasisEmbedding(features=a, wires=a_wires)\n",
    "        qml.BasisEmbedding(features=b, wires=b_wires)\n",
    "        \n",
    "        add_(a_wires, b_wires, qft_wires)\n",
    "\n",
    "        return qml.sample(wires=qft_wires)\n",
    "\n",
    "    return circuit, qml.specs(circuit)"
   ]
  },
  {
   "cell_type": "code",
   "execution_count": 228,
   "id": "239ec49d-1fd5-4d69-8872-25480b86bc5d",
   "metadata": {},
   "outputs": [],
   "source": [
    "def subtract_(a_wires, b_wires, qft_wires):\n",
    "    qml.broadcast(qml.PauliX, pattern=\"single\", wires=a_wires)\n",
    "    add_(a_wires, b_wires, qft_wires)\n",
    "    qml.broadcast(qml.PauliX, pattern=\"single\", wires=qft_wires)\n",
    "\n",
    "\n",
    "def subtract(a: int|list, b: int|list) -> (np.tensor, dict):\n",
    "    if b > a:\n",
    "        raise NotImplementedError(\"Arithmetic operations for negative integers are not supported yet\")\n",
    "\n",
    "    a, b = pre_process(a, b)\n",
    "    n = did_padding_work(a, b)\n",
    "    num_wires = 3*n+1\n",
    "\n",
    "    dev = qml.device(\"default.qubit\", wires=num_wires, shots=1)\n",
    "    @qml.qnode(dev)\n",
    "    def circuit():\n",
    "        total_wires=list(range(num_wires))\n",
    "        a_wires = total_wires[:n]\n",
    "        b_wires = total_wires[n:2*n]\n",
    "        qft_wires = total_wires[2*n:]\n",
    "\n",
    "        qml.BasisEmbedding(features=a, wires=a_wires)\n",
    "        qml.BasisEmbedding(features=b, wires=b_wires)\n",
    "\n",
    "        subtract_(a_wires, b_wires, qft_wires)\n",
    "\n",
    "        return qml.sample(wires=qft_wires[1:])\n",
    "\n",
    "    return circuit, qml.specs(circuit)"
   ]
  },
  {
   "cell_type": "code",
   "execution_count": 235,
   "id": "99298808-b6d0-4f6a-9cfe-ab907f9bdb95",
   "metadata": {},
   "outputs": [],
   "source": [
    "def multiply_(a_wires, b_wires, qft_wires):\n",
    "    qml.QFT(qft_wires)\n",
    "    for i, a_wire in enumerate(a_wires):\n",
    "        for i, b_wire in enumerate(b_wires):\n",
    "            qml.ctrl(load_to_wires, control=a_wire)(\n",
    "                2**(len(a_wires) - i - 1) + 2**(len(b_wires) - i - 1), control=b_wire, wires=qft_wires)\n",
    "    # return to computational basis\n",
    "    qml.adjoint(qml.QFT)(wires=qft_wires)\n",
    "\n",
    "\n",
    "def multiply(a: int|list, b: int|list) -> (np.tensor, dict):\n",
    "    a, b = pre_process(a, b)\n",
    "    n = did_padding_work(a, b)\n",
    "    num_wires = 4*n\n",
    "\n",
    "    dev = qml.device(\"default.qubit\", wires=num_wires, shots=1)\n",
    "    @qml.qnode(dev)\n",
    "    def circuit():\n",
    "        total_wires=list(range(num_wires))\n",
    "        a_wires = total_wires[:n]\n",
    "        b_wires = total_wires[n:2*n]\n",
    "        qft_wires = total_wires[2*n:]\n",
    "\n",
    "        qml.BasisEmbedding(features=a, wires=a_wires)\n",
    "        qml.BasisEmbedding(features=b, wires=b_wires)\n",
    "        \n",
    "        multiply_(a_wires, b_wires, qft_wires)\n",
    "\n",
    "        return qml.sample(wires=qft_wires)\n",
    "\n",
    "    return circuit, qml.specs(circuit)"
   ]
  },
  {
   "cell_type": "code",
   "execution_count": 238,
   "id": "6e2b967d-f685-439d-99e2-d11c52410bcd",
   "metadata": {},
   "outputs": [],
   "source": [
    "circuit, _ = multiply(4,8)"
   ]
  },
  {
   "cell_type": "code",
   "execution_count": 239,
   "id": "75890ad7-ba91-4011-a04a-cbffaa11435a",
   "metadata": {},
   "outputs": [
    {
     "data": {
      "text/plain": [
       "array([0, 0, 0, 1, 0, 0, 0, 0])"
      ]
     },
     "execution_count": 239,
     "metadata": {},
     "output_type": "execute_result"
    }
   ],
   "source": [
    "circuit()"
   ]
  },
  {
   "cell_type": "code",
   "execution_count": null,
   "id": "e5505031-62ca-4f17-a009-f3a98411aeb2",
   "metadata": {},
   "outputs": [],
   "source": [
    "def _unitary_copy(a_wires, b_wires):\n",
    "    "
   ]
  }
 ],
 "metadata": {
  "kernelspec": {
   "display_name": "Python 3 (ipykernel)",
   "language": "python",
   "name": "python3"
  },
  "language_info": {
   "codemirror_mode": {
    "name": "ipython",
    "version": 3
   },
   "file_extension": ".py",
   "mimetype": "text/x-python",
   "name": "python",
   "nbconvert_exporter": "python",
   "pygments_lexer": "ipython3",
   "version": "3.12.1"
  }
 },
 "nbformat": 4,
 "nbformat_minor": 5
}
