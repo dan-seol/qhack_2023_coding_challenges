{
 "cells": [
  {
   "cell_type": "markdown",
   "id": "18263c72",
   "metadata": {},
   "source": [
    "## Challenge code\n",
    " \n",
    " In the code below, you are given a couple functions:\n",
    " \n",
    " - `shor`: a QNode that contains the operations required to define Shor's code given an initial `state` and an `error` occuring in the middle of the circuit. It must output the expectation value of the Pauli Z operator on each qubit. **You must complete this function**.\n",
    " - `error`: this function contains the error operator that will be introduced into the circuit you create with `shor`. The possible errors are Pauli X, Y, and Z errors (see `error_dict`). To call this within `shor`, simply write `error(error_key, qubit)` and it will apply the error!\n",
    " \n",
    " Here are some helpful resources:\n",
    " \n",
    " - [Shor code](https://en.wikipedia.org/wiki/Quantum_error_correction#Shor_code)\n",
    " - [Quantum error correction](https://en.wikipedia.org/wiki/Quantum_error_correction)\n",
    " \n",
    " ### Input \n",
    " \n",
    " As input to this problem, you are given:\n",
    " \n",
    " - `state` (`list(float)`): defines the initial one-qubit state $\\vert \\psi \\rangle$. The remaining 8 qubits are initialized in the $\\vert 0 \\rangle$ state.\n",
    " - `error_key` (`int`): an integer corresponding to a Pauli X, Y, or Z error. See `error_dict`.\n",
    " - `qubit` (`int`): an integer corresponding to which qubit the error will occur on.\n",
    " \n",
    " ### Output\n",
    " \n",
    " This code must output a `list(float)` corresponding to the expectation values of the Pauli Z operator on every qubit.\n",
    " \n",
    " If your solution matches the correct one within the given tolerance specified in `check` (in this case it's a `1e-4` relative error tolerance), the output will be `\"Correct!\"` Otherwise, you will receive a `\"Wrong answer\"` prompt.\n",
    " \n",
    " Good luck!\n",
    " ### Imports\n",
    " The cell below specifies the libraries you should use in this challenge. Run the cell to import the libraries. ***Do not modify the cell.***"
   ]
  },
  {
   "cell_type": "code",
   "execution_count": 1,
   "id": "c0dccc39",
   "metadata": {},
   "outputs": [],
   "source": [
    "import json\n",
    "import pennylane as qml\n",
    "from pennylane import numpy as np"
   ]
  },
  {
   "cell_type": "markdown",
   "id": "93a4a266",
   "metadata": {},
   "source": [
    "### Code\n",
    " Complete the code below. Note that during QHack, some sections were not editable. We've marked those sections accordingly here, but you can still edit them if you wish."
   ]
  },
  {
   "cell_type": "code",
   "execution_count": 2,
   "id": "c8616eee",
   "metadata": {},
   "outputs": [],
   "source": [
    "# Uneditable section #\n",
    "n_qubits = 9\n",
    "dev = qml.device(\"default.qubit\", wires=n_qubits)\n",
    "error_dict = {0: 'PauliX', 1: 'PauliY', 2: 'PauliZ'}\n",
    "\n",
    "def error(error_key, qubit):\n",
    "    \"\"\"Defines the error that is induced in the circuit.\n",
    "\n",
    "    Args:\n",
    "        error_key (int): An integer associated to the type of error (Pauli X, Y, or Z)\n",
    "        qubit (int): The qubit that the error occurs on.\n",
    "    \"\"\"\n",
    "    getattr(qml, error_dict[error_key])(qubit)\n",
    "    \n",
    "    # Error\n",
    "    error(error_key, qubit)\n",
    "\n",
    "    # Post-error\n",
    "    def layer_2(wires):\n",
    "        qml.CNOT(wires=[wires[0], wires[1]])\n",
    "        qml.CNOT(wires=[wires[0], wires[2]])\n",
    "        qml.Toffoli(wires=[wires[2], wires[1], wires[0]])\n",
    "        qml.Hadamard(wires[0])\n",
    "        \n",
    "    qml.layer(layer_2, 1, wires=block_1)\n",
    "    qml.layer(layer_2, 1, wires=block_2)\n",
    "    qml.layer(layer_2, 1, wires=block_3)\n",
    "\n",
    "    qml.CNOT(wires=[0, 3])\n",
    "    qml.CNOT(wires=[0, 6])\n",
    "    qml.Toffoli(wires=[6, 3, 0])\n",
    "    return [qml.expval(qml.PauliZ(i)) for i in range(n_qubits)]"
   ]
  },
  {
   "cell_type": "code",
   "execution_count": 3,
   "id": "32a32615-35e5-4188-8715-9176c5973ff9",
   "metadata": {},
   "outputs": [],
   "source": [
    "n_qubits = 9\n",
    "dev = qml.device(\"default.qubit\", wires=n_qubits)\n",
    "error_dict = {0: 'PauliX', 1: 'PauliY', 2: 'PauliZ'}"
   ]
  },
  {
   "cell_type": "code",
   "execution_count": 4,
   "id": "4b0fd228-e329-4e14-a813-2b7414fa1855",
   "metadata": {},
   "outputs": [],
   "source": [
    "def error(error_key, qubit):\n",
    "    getattr(qml, error_dict[error_key])(qubit)"
   ]
  },
  {
   "cell_type": "code",
   "execution_count": 9,
   "id": "4f9144b8-444c-4261-bee5-23a7f60e0d13",
   "metadata": {},
   "outputs": [],
   "source": [
    "@qml.qnode(dev)\n",
    "def shor(state, error_key, qubit):\n",
    "    qml.QubitStateVector(np.array(state), wires=0)\n",
    "    block_1 = list(range(3))\n",
    "    block_2 = list(range(3, 6))\n",
    "    block_3 = list(range(6, 9))\n",
    "\n",
    "    qml.CNOT(wires=[0, 3])\n",
    "    qml.CNOT(wires=[0, 6])\n",
    "\n",
    "    def layer_1(wires):\n",
    "        qml.Hadamard(wires[0])\n",
    "        qml.CNOT(wires=[wires[0], wires[1]])\n",
    "        qml.CNOT(wires=[wires[0], wires[2]])\n",
    "\n",
    "    qml.layer(layer_1, 1, wires=block_1)\n",
    "    qml.layer(layer_1, 1, wires=block_2)\n",
    "    qml.layer(layer_1, 1, wires=block_3)\n",
    "    # Error\n",
    "    error(error_key, qubit)\n",
    "\n",
    "    # Post-error\n",
    "    def layer_2(wires):\n",
    "        qml.CNOT(wires=[wires[0], wires[1]])\n",
    "        qml.CNOT(wires=[wires[0], wires[2]])\n",
    "        qml.Toffoli(wires=[wires[2], wires[1], wires[0]])\n",
    "        qml.Hadamard(wires[0])\n",
    "        \n",
    "    qml.layer(layer_2, 1, wires=block_1)\n",
    "    qml.layer(layer_2, 1, wires=block_2)\n",
    "    qml.layer(layer_2, 1, wires=block_3)\n",
    "\n",
    "    qml.CNOT(wires=[0, 3])\n",
    "    qml.CNOT(wires=[0, 6])\n",
    "    qml.Toffoli(wires=[6, 3, 0])\n",
    "    return np.array([qml.expval(qml.PauliZ(i)) for i in range(n_qubits)])"
   ]
  },
  {
   "cell_type": "markdown",
   "id": "063ae44d",
   "metadata": {},
   "source": [
    "These functions are responsible for testing the solution. You will need to run the cell below. ***Do not modify the cell.***"
   ]
  },
  {
   "cell_type": "code",
   "execution_count": 10,
   "id": "8d5b9927",
   "metadata": {},
   "outputs": [],
   "source": [
    "def run(test_case_input: str) -> str:\n",
    "    state, error_key, qubit = json.loads(test_case_input)\n",
    "    output = shor(state, error_key, qubit).tolist()\n",
    "\n",
    "    return str(output)\n",
    "\n",
    "def check(solution_output: str, expected_output: str) -> None:\n",
    "    solution_output = json.loads(solution_output)\n",
    "    expected_output = json.loads(expected_output)\n",
    "\n",
    "    assert np.allclose(solution_output, expected_output, rtol=1e-4)"
   ]
  },
  {
   "cell_type": "markdown",
   "id": "4022e2b3",
   "metadata": {},
   "source": [
    "### Test cases\n",
    " Running the cell below will load the test cases. ***Do not modify the cell***.\n",
    " - input: [[0, 1], 0, 3]\n",
    " \t+ expected output: [-1.0,  1.0,  1.0,  1.0, -1.0, -1.0,  1.0,  1.0,  1.0]\n",
    " - input: [[0.5, 0.8660254038], 2, 1]\n",
    " \t+ expected output: [-0.5, 1.0, 1.0, -1.0, 1.0, 1.0, -1.0, 1.0, 1.0]"
   ]
  },
  {
   "cell_type": "code",
   "execution_count": 11,
   "id": "69594cad",
   "metadata": {},
   "outputs": [],
   "source": [
    "test_cases = [['[[0, 1], 0, 3]', '[-1.0,  1.0,  1.0,  1.0, -1.0, -1.0,  1.0,  1.0,  1.0]'], ['[[0.5, 0.8660254038], 2, 1]', '[-0.5, 1.0, 1.0, -1.0, 1.0, 1.0, -1.0, 1.0, 1.0]']]"
   ]
  },
  {
   "cell_type": "markdown",
   "id": "91d72bb9",
   "metadata": {},
   "source": [
    "### Solution testing\n",
    " Once you have run every cell above, including the one with your code, the cell below will test your solution. Run the cell. If you are correct for all of the test cases, it means your solutions is correct. Otherwise, you need to double check your work. ***Do not modify the cell below.***"
   ]
  },
  {
   "cell_type": "code",
   "execution_count": 12,
   "id": "01d82434",
   "metadata": {},
   "outputs": [
    {
     "name": "stdout",
     "output_type": "stream",
     "text": [
      "Running test case 0 with input '[[0, 1], 0, 3]'...\n",
      "Correct!\n",
      "Running test case 1 with input '[[0.5, 0.8660254038], 2, 1]'...\n",
      "Correct!\n"
     ]
    }
   ],
   "source": [
    "for i, (input_, expected_output) in enumerate(test_cases):\n",
    "    print(f\"Running test case {i} with input '{input_}'...\")\n",
    "\n",
    "    try:\n",
    "        output = run(input_)\n",
    "\n",
    "    except Exception as exc:\n",
    "        print(f\"Runtime Error. {exc}\")\n",
    "\n",
    "    else:\n",
    "        if message := check(output, expected_output):\n",
    "            print(f\"Wrong Answer. Have: '{output}'. Want: '{expected_output}'.\")\n",
    "\n",
    "        else:\n",
    "            print(\"Correct!\")"
   ]
  },
  {
   "cell_type": "code",
   "execution_count": null,
   "id": "39b85248-ab7c-4b7b-bd5b-99e9ac9d9d5c",
   "metadata": {},
   "outputs": [],
   "source": []
  }
 ],
 "metadata": {
  "kernelspec": {
   "display_name": "Python 3 (ipykernel)",
   "language": "python",
   "name": "python3"
  },
  "language_info": {
   "codemirror_mode": {
    "name": "ipython",
    "version": 3
   },
   "file_extension": ".py",
   "mimetype": "text/x-python",
   "name": "python",
   "nbconvert_exporter": "python",
   "pygments_lexer": "ipython3",
   "version": "3.12.1"
  }
 },
 "nbformat": 4,
 "nbformat_minor": 5
}
