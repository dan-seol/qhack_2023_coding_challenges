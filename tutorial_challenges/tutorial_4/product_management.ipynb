{
 "cells": [
  {
   "cell_type": "markdown",
   "id": "a560ed12",
   "metadata": {},
   "source": [
    "## Challenge code\n",
    " \n",
    " In the code below, you are given a function called `is_product`. This function will output `\"yes\"` or `\"no\"` correspondingly. **You must complete this function.**\n",
    " \n",
    " Here are some helpful resources:\n",
    " \n",
    " - [Separable quantum states](https://en.wikipedia.org/wiki/Separable_state)\n",
    " - [`qml.density_matrix`](https://docs.pennylane.ai/en/stable/code/api/pennylane.density_matrix.html)\n",
    " \n",
    " ### Input \n",
    " \n",
    " As input to this problem, you are given:\n",
    " \n",
    " - `state` (`list(float)`): this defines $\\vert \\psi \\rangle_{AB}$ (pure quantum state in question).\n",
    " - `subsystem` (`list(int)`): the subsystem that defines the subsystem of qubits $A$ \n",
    "   and $B = \\bar{A}$. I.e., the two groups of qubits that you will\n",
    "   determine if a state can be written as a product state.\n",
    " - `wires` (`list(int)`): the wire labels associated to the qubit state of interest.\n",
    " \n",
    " ### Output\n",
    " \n",
    " This code must output `\"yes\"` or `\"no\"` if the state $\\vert \\psi\n",
    " \\rangle_{AB}$ is a product state (with respect to $A$ and $B$).\n",
    " \n",
    " If your solution matches the correct one, the output will be `\"Correct!\"` Otherwise, you will receive a `\"Wrong answer\"` prompt.\n",
    " \n",
    " Good luck!\n",
    " ### Imports\n",
    " The cell below specifies the libraries you should use in this challenge. Run the cell to import the libraries. ***Do not modify the cell.***"
   ]
  },
  {
   "cell_type": "code",
   "execution_count": 1,
   "id": "8e61d303",
   "metadata": {},
   "outputs": [],
   "source": [
    "import json\n",
    "import pennylane as qml\n",
    "from pennylane import numpy as np"
   ]
  },
  {
   "cell_type": "markdown",
   "id": "6a625459",
   "metadata": {},
   "source": [
    "### Code\n",
    " Complete the code below. Note that during QHack, some sections were not editable. We've marked those sections accordingly here, but you can still edit them if you wish."
   ]
  },
  {
   "cell_type": "code",
   "execution_count": 16,
   "id": "fedf6496",
   "metadata": {},
   "outputs": [],
   "source": [
    "# Uneditable section #\n",
    "def is_product(state, subsystem, wires):\n",
    "    \"\"\"Determines if a pure quantum state can be written as a product state between \n",
    "    a subsystem of wires and their compliment.\n",
    "\n",
    "    Args:\n",
    "        state (numpy.array): The quantum state of interest.\n",
    "        subsystem (list(int)): The subsystem used to determine if the state is a product state.\n",
    "        wires (list(int)): The wire/qubit labels for the state. Use these for creating a QNode if you wish!\n",
    "\n",
    "    Returns:\n",
    "        (str): \"yes\" if the state is a product state or \"no\" if it isn't.\n",
    "    \"\"\"\n",
    "    # End of uneditable section #\n",
    "\n",
    "    # Put your solution here #\n",
    "    dev = qml.device('default.qubit', wires=wires)\n",
    "\n",
    "    @qml.qnode(dev)\n",
    "    def circuit():\n",
    "        qml.QubitStateVector(state, wires=wires)\n",
    "        return qml.density_matrix(subsystem)\n",
    "\n",
    "    def get_von_neumann_entropy(density_matrix):\n",
    "        # Compute the eigenvalues of the density matrix\n",
    "        eigenvalues = np.linalg.eigvalsh(density_matrix)\n",
    "\n",
    "        # Filter out eigenvalues close to zero\n",
    "        filtered_eigenvalues = eigenvalues[np.abs(eigenvalues) > 1e-12]\n",
    "\n",
    "        # Calculate the logarithm of the filtered eigenvalues\n",
    "        log_eigenvalues = np.log(filtered_eigenvalues)\n",
    "\n",
    "        # Compute the entanglement entropy using the von Neumann entropy formula\n",
    "        return -np.sum(filtered_eigenvalues * log_eigenvalues)\n",
    "    \n",
    "    return \"yes\" if np.isclose(get_von_neumann_entropy(circuit()), 0) else \"no\""
   ]
  },
  {
   "cell_type": "markdown",
   "id": "92a583cf",
   "metadata": {},
   "source": [
    "These functions are responsible for testing the solution. You will need to run the cell below. ***Do not modify the cell.***"
   ]
  },
  {
   "cell_type": "code",
   "execution_count": 17,
   "id": "8f429470",
   "metadata": {},
   "outputs": [],
   "source": [
    "def run(test_case_input: str) -> str:\n",
    "    ins = json.loads(test_case_input)\n",
    "    state, subsystem, wires = ins\n",
    "    state = np.array(state)\n",
    "    output = is_product(state, subsystem, wires)\n",
    "    return output\n",
    "\n",
    "def check(solution_output: str, expected_output: str) -> None:\n",
    "    print(f'{solution_output} vs {expected_output}')\n",
    "    assert solution_output == expected_output"
   ]
  },
  {
   "cell_type": "markdown",
   "id": "f397dc47",
   "metadata": {},
   "source": [
    "### Test cases\n",
    " Running the cell below will load the test cases. ***Do not modify the cell***.\n",
    " - input: [[0.707107, 0, 0, 0.707107], [0], [0, 1]]\n",
    " \t+ expected output: no\n",
    " - input: [[1, 0, 0, 0], [0], [0, 1]]\n",
    " \t+ expected output: yes\n",
    " - input: [[0.01798476, 0.13092257, -0.02743221, 0.16026384, -0.11828744, 0.28561417, -0.33551182,  0.86484869], [0], [0, 1, 2]]\n",
    " \t+ expected output: no\n",
    " - input: [[0.5, 0.5, 0.5, 0.5, 0, 0, 0, 0], [1,2], [0, 1, 2]]\n",
    " \t+ expected output: yes\n",
    " - input: [[0, 0, 0, 0, 1, 0, 0, 0, 0, 0, 0, 0, 0, 0, 0, 0], [2, 3, 0], [0, 1, 2, 3]]\n",
    " \t+ expected output: yes"
   ]
  },
  {
   "cell_type": "code",
   "execution_count": 12,
   "id": "89d0b930",
   "metadata": {},
   "outputs": [],
   "source": [
    "test_cases = [['[[0.707107, 0, 0, 0.707107], [0], [0, 1]]', 'no'], ['[[1, 0, 0, 0], [0], [0, 1]]', 'yes'], ['[[0.01798476, 0.13092257, -0.02743221, 0.16026384, -0.11828744, 0.28561417, -0.33551182,  0.86484869], [0], [0, 1, 2]]', 'no'], ['[[0.5, 0.5, 0.5, 0.5, 0, 0, 0, 0], [1,2], [0, 1, 2]]', 'yes'], ['[[0, 0, 0, 0, 1, 0, 0, 0, 0, 0, 0, 0, 0, 0, 0, 0], [2, 3, 0], [0, 1, 2, 3]]', 'yes']]"
   ]
  },
  {
   "cell_type": "markdown",
   "id": "55bcf390",
   "metadata": {},
   "source": [
    "### Solution testing\n",
    " Once you have run every cell above, including the one with your code, the cell below will test your solution. Run the cell. If you are correct for all of the test cases, it means your solutions is correct. Otherwise, you need to double check your work. ***Do not modify the cell below.***"
   ]
  },
  {
   "cell_type": "code",
   "execution_count": 18,
   "id": "b34c42ac",
   "metadata": {},
   "outputs": [
    {
     "name": "stdout",
     "output_type": "stream",
     "text": [
      "Running test case 0 with input '[[0.707107, 0, 0, 0.707107], [0], [0, 1]]'...\n",
      "no vs no\n",
      "Correct!\n",
      "Running test case 1 with input '[[1, 0, 0, 0], [0], [0, 1]]'...\n",
      "yes vs yes\n",
      "Correct!\n",
      "Running test case 2 with input '[[0.01798476, 0.13092257, -0.02743221, 0.16026384, -0.11828744, 0.28561417, -0.33551182,  0.86484869], [0], [0, 1, 2]]'...\n",
      "no vs no\n",
      "Correct!\n",
      "Running test case 3 with input '[[0.5, 0.5, 0.5, 0.5, 0, 0, 0, 0], [1,2], [0, 1, 2]]'...\n",
      "yes vs yes\n",
      "Correct!\n",
      "Running test case 4 with input '[[0, 0, 0, 0, 1, 0, 0, 0, 0, 0, 0, 0, 0, 0, 0, 0], [2, 3, 0], [0, 1, 2, 3]]'...\n",
      "yes vs yes\n",
      "Correct!\n"
     ]
    }
   ],
   "source": [
    "for i, (input_, expected_output) in enumerate(test_cases):\n",
    "    print(f\"Running test case {i} with input '{input_}'...\")\n",
    "\n",
    "    try:\n",
    "        output = run(input_)\n",
    "\n",
    "    except Exception as exc:\n",
    "        print(f\"Runtime Error. {exc}\")\n",
    "\n",
    "    else:\n",
    "        if message := check(output, expected_output):\n",
    "            print(f\"Wrong Answer. Have: '{output}'. Want: '{expected_output}'.\")\n",
    "\n",
    "        else:\n",
    "            print(\"Correct!\")"
   ]
  },
  {
   "cell_type": "code",
   "execution_count": null,
   "id": "0d385772-efc3-423b-9e5f-646a7dd79b2d",
   "metadata": {},
   "outputs": [],
   "source": []
  }
 ],
 "metadata": {
  "kernelspec": {
   "display_name": "Python 3 (ipykernel)",
   "language": "python",
   "name": "python3"
  },
  "language_info": {
   "codemirror_mode": {
    "name": "ipython",
    "version": 3
   },
   "file_extension": ".py",
   "mimetype": "text/x-python",
   "name": "python",
   "nbconvert_exporter": "python",
   "pygments_lexer": "ipython3",
   "version": "3.12.1"
  }
 },
 "nbformat": 4,
 "nbformat_minor": 5
}
