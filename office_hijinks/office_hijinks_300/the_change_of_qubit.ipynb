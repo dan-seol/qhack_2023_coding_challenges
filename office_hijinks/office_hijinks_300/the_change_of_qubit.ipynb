{
 "cells": [
  {
   "cell_type": "markdown",
   "id": "1c2eedb3",
   "metadata": {},
   "source": [
    "## Challenge code\n",
    " \n",
    " In this challenge, you will only be asked to complete the `circuit_left` and `circuit_right` operators to meet the objective of the statement.\n",
    " \n",
    " ### Input\n",
    " \n",
    " To encode the initial state $\\vert \\psi \\rangle,$ we will use a $U3$ gate. The input will be the three parameters (`alpha`,`beta`,`gamma`) associated with this gate.\n",
    " \n",
    " ### Output\n",
    " \n",
    " In this case, the output is the measurement result of the last qubit with respect to an observable. In this way, we check if it coincides with the expected state. Good luck!\n",
    " ### Imports\n",
    " The cell below specifies the libraries you should use in this challenge. Run the cell to import the libraries. ***Do not modify the cell.***"
   ]
  },
  {
   "cell_type": "code",
   "execution_count": 1,
   "id": "e06dc795",
   "metadata": {},
   "outputs": [],
   "source": [
    "import json\n",
    "import pennylane as qml\n",
    "from pennylane import numpy as np"
   ]
  },
  {
   "cell_type": "markdown",
   "id": "d876d0a6",
   "metadata": {},
   "source": [
    "### Code\n",
    " Complete the code below. Note that during QHack, some sections were not editable. We've marked those sections accordingly here, but you can still edit them if you wish."
   ]
  },
  {
   "cell_type": "code",
   "execution_count": 32,
   "id": "62416f1c",
   "metadata": {},
   "outputs": [],
   "source": [
    "def circuit_left():\n",
    "    \"\"\"\n",
    "    This function corresponds to the circuit on the left-hand side of the diagram in the \n",
    "    description. Simply place the necessary operations, you do not have to return anything.\n",
    "    \"\"\"\n",
    "    qml.CNOT(wires=[0,1])\n",
    "    qml.CNOT(wires=[1,2])\n",
    "    qml.broadcast(qml.Hadamard, pattern=\"single\", wires=range(3))\n",
    "\n",
    "def circuit_right():\n",
    "    \"\"\"\n",
    "    This function corresponds to the circuit on the right-hand side of the diagram in the \n",
    "    description. Simply place the necessary operations, you do not have to return anything.\n",
    "    \"\"\"\n",
    "    qml.broadcast(qml.Hadamard, pattern=\"single\", wires=range(3))\n",
    "    qml.PauliZ(0)\n",
    "    qml.CNOT(wires=[1,0])\n",
    "    qml.CNOT(wires=[2,1])\n",
    "\n",
    "\n",
    "# Uneditable section #\n",
    "def U():\n",
    "    \"\"\"This operator generates a PauliX gate on a random qubit\"\"\"\n",
    "    qml.PauliX(wires=np.random.randint(3))\n",
    "\n",
    "\n",
    "dev = qml.device(\"default.qubit\", wires=3)\n",
    "\n",
    "@qml.qnode(dev)\n",
    "def circuit(alpha, beta, gamma):\n",
    "    \"\"\"Total circuit joining each block.\n",
    "\n",
    "    Args: \n",
    "        alpha (float): The first parameter of a U3 gate.\n",
    "        beta (float):The second parameter of a U3 gate. \n",
    "        gamma (float): The third parameter of a U3 gate. \n",
    "    \n",
    "    Returns:\n",
    "        (float): The expectation value of an observable.\n",
    "    \"\"\"\n",
    "    qml.U3(alpha, beta, gamma, wires=0)\n",
    "    circuit_left()\n",
    "    U()\n",
    "    circuit_right()\n",
    "\n",
    "    # Here we are returning the expected value with respect to any observable,\n",
    "    # the choice of observable is not important in this exercise.\n",
    "\n",
    "    return qml.expval(0.5 * qml.PauliZ(2) - qml.PauliY(2))"
   ]
  },
  {
   "cell_type": "markdown",
   "id": "14f169a4",
   "metadata": {},
   "source": [
    "These functions are responsible for testing the solution. You will need to run the cell below. ***Do not modify the cell.***"
   ]
  },
  {
   "cell_type": "code",
   "execution_count": 27,
   "id": "827d305e",
   "metadata": {},
   "outputs": [],
   "source": [
    "def run(test_case_input: str) -> str:\n",
    "    angles = json.loads(test_case_input)\n",
    "    output = circuit(*angles)\n",
    "    return str(output)\n",
    "\n",
    "def check(solution_output: str, expected_output: str) -> None:\n",
    "\n",
    "    solution_output = json.loads(solution_output)\n",
    "    expected_output = json.loads(expected_output)\n",
    "    assert np.allclose(\n",
    "        solution_output, expected_output, atol=2e-1\n",
    "    ), \"The expected output is not quite right.\"\n",
    "\n",
    "    ops = circuit.tape.operations\n",
    "\n",
    "    for op in ops:\n",
    "        assert not (0 in op.wires and 2 in op.wires), \"Invalid connection between qubits.\"\n",
    "\n",
    "    assert circuit.tape.observables[0].wires == qml.wires.Wires(2), \"Measurement on wrong qubit.\""
   ]
  },
  {
   "cell_type": "markdown",
   "id": "73b96440",
   "metadata": {},
   "source": [
    "### Test cases\n",
    " Running the cell below will load the test cases. ***Do not modify the cell***.\n",
    " - input: [2.0,1.0,3.0]\n",
    " \t+ expected output: -0.97322\n",
    " - input: [-0.5,1.2,-1.2]\n",
    " \t+ expected output: 0.88563\n",
    " - input: [0.22,3.0,2.1]\n",
    " \t+ expected output: 0.457152\n",
    " - input: [2.22,3.1,-3.3]\n",
    " \t+ expected output: -0.335397\n",
    " - input: [-0.2,-0.1,3.4]\n",
    " \t+ expected output: 0.470199\n",
    " - input: [-1.2,-1.1,0.4]\n",
    " \t+ expected output: -0.6494612\n",
    " - input: [0.2,1.0,-1.3]\n",
    " \t+ expected output: 0.322858\n",
    " - input: [0.1,1.4,-1.1]\n",
    " \t+ expected output: 0.3991212\n",
    " - input: [2.0,1.0,3.0]\n",
    " \t+ expected output: -0.97322\n",
    " - input: [-0.5,1.2,-1.2]\n",
    " \t+ expected output: 0.88563\n",
    " - input: [0.22,3.0,2.1]\n",
    " \t+ expected output: 0.457152\n",
    " - input: [2.22,3.1,-3.3]\n",
    " \t+ expected output: -0.335397\n",
    " - input: [-0.2,-0.1,3.4]\n",
    " \t+ expected output: 0.470199\n",
    " - input: [-1.2,-1.1,0.4]\n",
    " \t+ expected output: -0.6494612\n",
    " - input: [2.0,1.0,3.0]\n",
    " \t+ expected output: -0.97322\n",
    " - input: [-0.5,1.2,-1.2]\n",
    " \t+ expected output: 0.88563\n",
    " - input: [0.22,3.0,2.1]\n",
    " \t+ expected output: 0.457152\n",
    " - input: [2.22,3.1,-3.3]\n",
    " \t+ expected output: -0.335397\n",
    " - input: [-0.2,-0.1,3.4]\n",
    " \t+ expected output: 0.470199\n",
    " - input: [-1.2,-1.1,0.4]\n",
    " \t+ expected output: -0.6494612"
   ]
  },
  {
   "cell_type": "code",
   "execution_count": 28,
   "id": "80c34b3b",
   "metadata": {},
   "outputs": [],
   "source": [
    "test_cases = [['[2.0,1.0,3.0]', '-0.97322'], ['[-0.5,1.2,-1.2]', '0.88563'], ['[0.22,3.0,2.1]', '0.457152'], ['[2.22,3.1,-3.3]', '-0.335397'], ['[-0.2,-0.1,3.4]', '0.470199'], ['[-1.2,-1.1,0.4]', '-0.6494612'], ['[0.2,1.0,-1.3]', '0.322858'], ['[0.1,1.4,-1.1]', '0.3991212'], ['[2.0,1.0,3.0]', '-0.97322'], ['[-0.5,1.2,-1.2]', '0.88563'], ['[0.22,3.0,2.1]', '0.457152'], ['[2.22,3.1,-3.3]', '-0.335397'], ['[-0.2,-0.1,3.4]', '0.470199'], ['[-1.2,-1.1,0.4]', '-0.6494612'], ['[2.0,1.0,3.0]', '-0.97322'], ['[-0.5,1.2,-1.2]', '0.88563'], ['[0.22,3.0,2.1]', '0.457152'], ['[2.22,3.1,-3.3]', '-0.335397'], ['[-0.2,-0.1,3.4]', '0.470199'], ['[-1.2,-1.1,0.4]', '-0.6494612']]"
   ]
  },
  {
   "cell_type": "markdown",
   "id": "734ee5d0",
   "metadata": {},
   "source": [
    "### Solution testing\n",
    " Once you have run every cell above, including the one with your code, the cell below will test your solution. Run the cell. If you are correct for all of the test cases, it means your solutions is correct. Otherwise, you need to double check your work. ***Do not modify the cell below.***"
   ]
  },
  {
   "cell_type": "code",
   "execution_count": 33,
   "id": "de069a04-5c71-46ed-a855-7edc3005a0e3",
   "metadata": {},
   "outputs": [
    {
     "name": "stdout",
     "output_type": "stream",
     "text": [
      "Running test case 0 with input '[2.0,1.0,3.0]'...\n",
      "Correct!\n",
      "Running test case 1 with input '[-0.5,1.2,-1.2]'...\n",
      "Correct!\n",
      "Running test case 2 with input '[0.22,3.0,2.1]'...\n",
      "Correct!\n",
      "Running test case 3 with input '[2.22,3.1,-3.3]'...\n",
      "Correct!\n",
      "Running test case 4 with input '[-0.2,-0.1,3.4]'...\n",
      "Correct!\n",
      "Running test case 5 with input '[-1.2,-1.1,0.4]'...\n",
      "Correct!\n",
      "Running test case 6 with input '[0.2,1.0,-1.3]'...\n",
      "Correct!\n",
      "Running test case 7 with input '[0.1,1.4,-1.1]'...\n",
      "Correct!\n",
      "Running test case 8 with input '[2.0,1.0,3.0]'...\n",
      "Correct!\n",
      "Running test case 9 with input '[-0.5,1.2,-1.2]'...\n",
      "Correct!\n",
      "Running test case 10 with input '[0.22,3.0,2.1]'...\n",
      "Correct!\n",
      "Running test case 11 with input '[2.22,3.1,-3.3]'...\n",
      "Correct!\n",
      "Running test case 12 with input '[-0.2,-0.1,3.4]'...\n",
      "Correct!\n",
      "Running test case 13 with input '[-1.2,-1.1,0.4]'...\n",
      "Correct!\n",
      "Running test case 14 with input '[2.0,1.0,3.0]'...\n",
      "Correct!\n",
      "Running test case 15 with input '[-0.5,1.2,-1.2]'...\n",
      "Correct!\n",
      "Running test case 16 with input '[0.22,3.0,2.1]'...\n",
      "Correct!\n",
      "Running test case 17 with input '[2.22,3.1,-3.3]'...\n",
      "Correct!\n",
      "Running test case 18 with input '[-0.2,-0.1,3.4]'...\n",
      "Correct!\n",
      "Running test case 19 with input '[-1.2,-1.1,0.4]'...\n",
      "Correct!\n"
     ]
    }
   ],
   "source": [
    "for i, (input_, expected_output) in enumerate(test_cases):\n",
    "    print(f\"Running test case {i} with input '{input_}'...\")\n",
    "\n",
    "    try:\n",
    "        output = run(input_)\n",
    "\n",
    "    except Exception as exc:\n",
    "        print(f\"Runtime Error. {exc}\")\n",
    "\n",
    "    else:\n",
    "        try:\n",
    "            check(output, expected_output)\n",
    "            print(\"Correct!\")\n",
    "        except AssertionError:\n",
    "            print(f\"Wrong Answer. Have: '{output}'. Want: '{expected_output}'.\")\n",
    "        "
   ]
  },
  {
   "cell_type": "code",
   "execution_count": null,
   "id": "b9c134b9-02b1-45c5-9543-aef1f052c482",
   "metadata": {},
   "outputs": [],
   "source": []
  }
 ],
 "metadata": {
  "kernelspec": {
   "display_name": "Python 3 (ipykernel)",
   "language": "python",
   "name": "python3"
  },
  "language_info": {
   "codemirror_mode": {
    "name": "ipython",
    "version": 3
   },
   "file_extension": ".py",
   "mimetype": "text/x-python",
   "name": "python",
   "nbconvert_exporter": "python",
   "pygments_lexer": "ipython3",
   "version": "3.12.1"
  }
 },
 "nbformat": 4,
 "nbformat_minor": 5
}
