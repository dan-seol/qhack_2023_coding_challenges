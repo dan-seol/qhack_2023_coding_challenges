{
 "cells": [
  {
   "cell_type": "markdown",
   "id": "e79ecadd",
   "metadata": {},
   "source": [
    "## Challenge code\n",
    " \n",
    " On one hand, you are asked to complete `circuit` (you only need to apply gates). You can only call the `project_execution` operator once, which is already incorporated in the template. \n",
    " On the other hand, you must complete `process_output`, which will take the output of your circuit and will return who the lazy guy is.\n",
    " \n",
    " The `project_execution` function will be generated when testing the solution; if you want to experiment with the function output in the notebook, you can temporarily replace `project_execution` with an operator of the form `qml.MultiControlledX(wires=['e1', 'e2', 'e4', 'result'])`. In this case, the absence of \"e3\" on the wires means that in this project, \"e3\" will be the lazy employee. Just remember to switch it back to project_execution before submitting, so that your function uses the correct project_execution during testing!\n",
    " \n",
    " You may find it useful to do some tests in [Quirk](https://algassert.com/quirk) before you start coding.\n",
    " \n",
    " ### Output\n",
    " \n",
    " To judge this challenge, we will arbitrarily generate 5000 different projects (`project_execution`), which we will send one by one to the circuit to check that your prediction is correct (\"e1\", \"e2\", \"e3\" or \"e4\"). Therefore, in this case, there will be no public and private test cases. Good luck!\n",
    " ### Imports\n",
    " The cell below specifies the libraries you should use in this challenge. Run the cell to import the libraries. ***Do not modify the cell.***"
   ]
  },
  {
   "cell_type": "code",
   "execution_count": 1,
   "id": "53264cf0",
   "metadata": {},
   "outputs": [],
   "source": [
    "import json\n",
    "import pennylane as qml\n",
    "from pennylane import numpy as np"
   ]
  },
  {
   "cell_type": "markdown",
   "id": "45492f0d",
   "metadata": {},
   "source": [
    "### Code\n",
    " Complete the code below. Note that during QHack, some sections were not editable. We've marked those sections accordingly here, but you can still edit them if you wish."
   ]
  },
  {
   "cell_type": "code",
   "execution_count": 2,
   "id": "e6adb0ad",
   "metadata": {},
   "outputs": [
    {
     "ename": "AttributeError",
     "evalue": "'DefaultQubit' object has no attribute 'operations'",
     "output_type": "error",
     "traceback": [
      "\u001b[0;31m---------------------------------------------------------------------------\u001b[0m",
      "\u001b[0;31mAttributeError\u001b[0m                            Traceback (most recent call last)",
      "Cell \u001b[0;32mIn[2], line 3\u001b[0m\n\u001b[1;32m      1\u001b[0m \u001b[38;5;66;03m# Uneditable section #\u001b[39;00m\n\u001b[1;32m      2\u001b[0m dev \u001b[38;5;241m=\u001b[39m qml\u001b[38;5;241m.\u001b[39mdevice(\u001b[38;5;124m\"\u001b[39m\u001b[38;5;124mdefault.qubit\u001b[39m\u001b[38;5;124m\"\u001b[39m, wires\u001b[38;5;241m=\u001b[39m[\u001b[38;5;124m\"\u001b[39m\u001b[38;5;124me1\u001b[39m\u001b[38;5;124m\"\u001b[39m, \u001b[38;5;124m\"\u001b[39m\u001b[38;5;124me2\u001b[39m\u001b[38;5;124m\"\u001b[39m, \u001b[38;5;124m\"\u001b[39m\u001b[38;5;124me3\u001b[39m\u001b[38;5;124m\"\u001b[39m, \u001b[38;5;124m\"\u001b[39m\u001b[38;5;124me4\u001b[39m\u001b[38;5;124m\"\u001b[39m, \u001b[38;5;124m\"\u001b[39m\u001b[38;5;124mresult\u001b[39m\u001b[38;5;124m\"\u001b[39m], shots\u001b[38;5;241m=\u001b[39m\u001b[38;5;241m1\u001b[39m)\n\u001b[0;32m----> 3\u001b[0m \u001b[43mdev\u001b[49m\u001b[38;5;241;43m.\u001b[39;49m\u001b[43moperations\u001b[49m\u001b[38;5;241m.\u001b[39madd(\u001b[38;5;124m\"\u001b[39m\u001b[38;5;124mop\u001b[39m\u001b[38;5;124m\"\u001b[39m)\n\u001b[1;32m      5\u001b[0m wires \u001b[38;5;241m=\u001b[39m [\u001b[38;5;124m\"\u001b[39m\u001b[38;5;124me1\u001b[39m\u001b[38;5;124m\"\u001b[39m, \u001b[38;5;124m\"\u001b[39m\u001b[38;5;124me2\u001b[39m\u001b[38;5;124m\"\u001b[39m, \u001b[38;5;124m\"\u001b[39m\u001b[38;5;124me3\u001b[39m\u001b[38;5;124m\"\u001b[39m, \u001b[38;5;124m\"\u001b[39m\u001b[38;5;124me4\u001b[39m\u001b[38;5;124m\"\u001b[39m, \u001b[38;5;124m\"\u001b[39m\u001b[38;5;124mresult\u001b[39m\u001b[38;5;124m\"\u001b[39m]\n\u001b[1;32m      6\u001b[0m \u001b[38;5;66;03m# End of uneditable section #\u001b[39;00m\n",
      "\u001b[0;31mAttributeError\u001b[0m: 'DefaultQubit' object has no attribute 'operations'"
     ]
    }
   ],
   "source": [
    "# Uneditable section #\n",
    "dev = qml.device(\"default.qubit\", wires=[\"e1\", \"e2\", \"e3\", \"e4\", \"result\"], shots=1)\n",
    "dev.operations.add(\"op\")\n",
    "\n",
    "wires = [\"e1\", \"e2\", \"e3\", \"e4\", \"result\"]\n",
    "# End of uneditable section #\n",
    "\n",
    "@qml.qnode(dev)\n",
    "def circuit(project_execution):\n",
    "    \"\"\"This is the circuit we will use to detect which is the lazy worker. Remember \n",
    "    that we will only execute one shot.\n",
    "\n",
    "    Args:\n",
    "        project_execution (qml.ops): \n",
    "            The gate in charge of marking in the last qubit if the project has been finished\n",
    "            as indicated in the statement.\n",
    "\n",
    "    Returns:\n",
    "        (numpy.tensor): Measurement output in the 5 qubits after a shot.\n",
    "    \"\"\"\n",
    "    # Put your code here #\n",
    "    project_execution(wires=wires)\n",
    "    # Put your code here #\n",
    "    return qml.sample(wires=dev.wires)\n",
    "\n",
    "def process_output(measurement):\n",
    "    \"\"\"This function will take the circuit measurement and process it to determine who is the lazy worker.\n",
    "\n",
    "    Args:\n",
    "        measurement (numpy.tensor): Measurement output in the 5 qubits after a shot.\n",
    "\n",
    "    Returns:\n",
    "        (str): This function must return \"e1\", \"e2\" \"e3\" or \"e4\" - the lazy worker.\n",
    "    \"\"\"\n",
    "    # Put your code here #"
   ]
  },
  {
   "cell_type": "markdown",
   "id": "a64730e7",
   "metadata": {},
   "source": [
    "These functions are responsible for testing the solution. You will need to run the cell below. ***Do not modify the cell.***"
   ]
  },
  {
   "cell_type": "code",
   "execution_count": null,
   "id": "017a20ff",
   "metadata": {},
   "outputs": [],
   "source": [
    "def run(test_case_input: str) -> str:\n",
    "    return None\n",
    "\n",
    "def check(solution_output: str, expected_output: str) -> None:\n",
    "    samples = 5000\n",
    "\n",
    "    solutions = []\n",
    "    output = []\n",
    "\n",
    "    for s in range(samples):\n",
    "        lazy = np.random.randint(0, 4)\n",
    "        no_lazy = list(range(4))\n",
    "        no_lazy.pop(lazy)\n",
    "\n",
    "        def project_execution(wires):\n",
    "            class op(qml.operation.Operator):\n",
    "                num_wires = 5\n",
    "\n",
    "                def compute_decomposition(self, wires):\n",
    "                    raise ValueError(\"You cant descompose this gate\")\n",
    "\n",
    "                def matrix(self):\n",
    "                    m = np.zeros([32, 32])\n",
    "                    for i in range(32):\n",
    "                        b = [int(j) for j in bin(64 + i)[-5:]]\n",
    "                        if sum(np.array(b)[no_lazy]) == 3:\n",
    "                            if b[-1] == 0:\n",
    "                                m[i, i + 1] = 1\n",
    "                            else:\n",
    "                                m[i, i - 1] = 1\n",
    "                        else:\n",
    "                            m[i, i] = 1\n",
    "                    return m\n",
    "\n",
    "            op(wires=wires)\n",
    "            return None\n",
    "\n",
    "        out = circuit(project_execution)\n",
    "        solutions.append(lazy + 1)\n",
    "        output.append(int(process_output(out)[-1]))\n",
    "\n",
    "    assert np.allclose(\n",
    "        output, solutions, rtol=1e-4\n",
    "    ), \"Your circuit does not give the correct output.\"\n",
    "\n",
    "    ops = [op.name for op in circuit.tape.operations]\n",
    "    assert ops.count(\"op\") == 1, \"You have used the oracle more than one time.\""
   ]
  },
  {
   "cell_type": "markdown",
   "id": "3f0d2afd",
   "metadata": {},
   "source": [
    "### Test cases\n",
    " Running the cell below will load the test cases. ***Do not modify the cell***.\n",
    " - input: No input\n",
    " \t+ expected output: No output\n",
    " - input: No input\n",
    " \t+ expected output: No output"
   ]
  },
  {
   "cell_type": "code",
   "execution_count": null,
   "id": "5fbe1de0",
   "metadata": {},
   "outputs": [],
   "source": [
    "test_cases = [['No input', 'No output'], ['No input', 'No output']]"
   ]
  },
  {
   "cell_type": "markdown",
   "id": "461329d5",
   "metadata": {},
   "source": [
    "### Solution testing\n",
    " Once you have run every cell above, including the one with your code, the cell below will test your solution. Run the cell. If you are correct for all of the test cases, it means your solutions is correct. Otherwise, you need to double check your work. ***Do not modify the cell below.***"
   ]
  },
  {
   "cell_type": "code",
   "execution_count": null,
   "id": "aac1ff52",
   "metadata": {},
   "outputs": [],
   "source": [
    "for i, (input_, expected_output) in enumerate(test_cases):\n",
    "    print(f\"Running test case {i} with input '{input_}'...\")\n",
    "\n",
    "    try:\n",
    "        output = run(input_)\n",
    "\n",
    "    except Exception as exc:\n",
    "        print(f\"Runtime Error. {exc}\")\n",
    "\n",
    "    else:\n",
    "        if message := check(output, expected_output):\n",
    "            print(f\"Wrong Answer. Have: '{output}'. Want: '{expected_output}'.\")\n",
    "\n",
    "        else:\n",
    "            print(\"Correct!\")"
   ]
  }
 ],
 "metadata": {
  "kernelspec": {
   "display_name": "Python 3 (ipykernel)",
   "language": "python",
   "name": "python3"
  },
  "language_info": {
   "codemirror_mode": {
    "name": "ipython",
    "version": 3
   },
   "file_extension": ".py",
   "mimetype": "text/x-python",
   "name": "python",
   "nbconvert_exporter": "python",
   "pygments_lexer": "ipython3",
   "version": "3.12.1"
  }
 },
 "nbformat": 4,
 "nbformat_minor": 5
}
