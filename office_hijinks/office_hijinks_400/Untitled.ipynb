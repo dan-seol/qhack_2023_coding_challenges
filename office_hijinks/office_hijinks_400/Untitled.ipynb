{
 "cells": [
  {
   "cell_type": "code",
   "execution_count": 1,
   "id": "bbe3ddac-a0be-422c-810c-c5ce7365827a",
   "metadata": {},
   "outputs": [],
   "source": [
    "import scipy\n"
   ]
  },
  {
   "cell_type": "code",
   "execution_count": null,
   "id": "fdc39a50-5a21-4e18-955e-6114c678b42c",
   "metadata": {},
   "outputs": [],
   "source": [
    "def decrease_goal_chance(theta):\n",
    "    return np.array(\n",
    "        [\n",
    "            [np.sqrt(theta), 0],\n",
    "            [-1j*np.sqrt(1-theta), 1]\n",
    "        ]\n",
    "    )\n",
    "\n",
    "def increase_goal_chance(theta):\n",
    "    return np.array(\n",
    "        [\n",
    "            [1, -1j*np.sqrt(1-theta)],\n",
    "            [0, np.sqrt(theta)]\n",
    "        ]\n",
    "    )"
   ]
  }
 ],
 "metadata": {
  "kernelspec": {
   "display_name": "Python 3 (ipykernel)",
   "language": "python",
   "name": "python3"
  },
  "language_info": {
   "codemirror_mode": {
    "name": "ipython",
    "version": 3
   },
   "file_extension": ".py",
   "mimetype": "text/x-python",
   "name": "python",
   "nbconvert_exporter": "python",
   "pygments_lexer": "ipython3",
   "version": "3.12.1"
  }
 },
 "nbformat": 4,
 "nbformat_minor": 5
}
