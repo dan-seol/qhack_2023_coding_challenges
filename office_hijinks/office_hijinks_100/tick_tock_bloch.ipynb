{
 "cells": [
  {
   "cell_type": "markdown",
   "id": "427a40b0",
   "metadata": {},
   "source": [
    "## Challenge code\n",
    " \n",
    " You must complete the `time` function that will take the hour and minutes as an argument and generate the two-qubit state associated to the indicated time.\n",
    " \n",
    " ### Input\n",
    " \n",
    " The input will be two integers. The one corresponding to the hours will take values from 1 to 12 and the one corresponding to the minutes will range from 0 to 59.\n",
    " \n",
    " ### Output\n",
    " \n",
    " The output will be the vector of probabilities of the two-qubit state, measured in the computational basis. You are only asked to complete the gates, we'll handle the rest. Good luck!\n",
    " ### Imports\n",
    " The cell below specifies the libraries you should use in this challenge. Run the cell to import the libraries. ***Do not modify the cell.***"
   ]
  },
  {
   "cell_type": "code",
   "execution_count": 2,
   "id": "278db461",
   "metadata": {},
   "outputs": [],
   "source": [
    "import json\n",
    "import pennylane as qml\n",
    "from pennylane import numpy as np"
   ]
  },
  {
   "cell_type": "markdown",
   "id": "435d2491",
   "metadata": {},
   "source": [
    "### Code\n",
    " Complete the code below. Note that during QHack, some sections were not editable. We've marked those sections accordingly here, but you can still edit them if you wish."
   ]
  },
  {
   "cell_type": "code",
   "execution_count": 35,
   "id": "06266835",
   "metadata": {},
   "outputs": [],
   "source": [
    "# Uneditable section #\n",
    "dev = qml.device(\"default.qubit\", wires=[\"hour\", \"minute\"])\n",
    "# End of uneditable section #\n",
    "\n",
    "@qml.qnode(dev)\n",
    "def time(hour, minute):\n",
    "    \"\"\"Generates the quantum state associated with the time passed as argument.\n",
    "\n",
    "    Args:\n",
    "        hour (int): Hour associated with the requested time\n",
    "        minute (int): Minutes associated with the requested time\n",
    "\n",
    "    Returns:\n",
    "        (numpy.tensor): Probabilities associated with the state created.\n",
    "    \"\"\"\n",
    "    # Put your code here #\n",
    "    # 2pi in 2*6*60 minutes - 2pi/720 * (hour*60+minute)\n",
    "    # 2pi in 60 minutes - \n",
    "    hour_plus_minute_in_minutes = 60*(hour%12) + minute%60\n",
    "    qml.RY(-hour_plus_minute_in_minutes*2*np.pi/720, wires=\"hour\")\n",
    "    #qml.PauliX(wires=\"hour\")\n",
    "    qml.RY(-minute*2*np.pi/60, wires=\"minute\")\n",
    "    #qml.PauliX(wires=\"minute\")\n",
    "    \n",
    "    return qml.probs(wires=[\"hour\", \"minute\"])"
   ]
  },
  {
   "cell_type": "markdown",
   "id": "9949cc43",
   "metadata": {},
   "source": [
    "These functions are responsible for testing the solution. You will need to run the cell below. ***Do not modify the cell.***"
   ]
  },
  {
   "cell_type": "code",
   "execution_count": 25,
   "id": "cc418823",
   "metadata": {},
   "outputs": [],
   "source": [
    "def run(test_case_input: str) -> str:\n",
    "    hour, minute = json.loads(test_case_input)\n",
    "    state = [float(x) for x in time(hour, minute)]\n",
    "    return str(state)\n",
    "\n",
    "def check(solution_output, expected_output: str) -> None:\n",
    "\n",
    "    solution_output = json.loads(solution_output)\n",
    "    expected_output = json.loads(expected_output)\n",
    "    print(f\"Have: '{output}'. Want: '{expected_output}'.\")\n",
    "\n",
    "    assert np.allclose(\n",
    "        solution_output, expected_output, atol=0.1\n",
    "    ), \"The solution does not seem to be correct.\""
   ]
  },
  {
   "cell_type": "markdown",
   "id": "db798263",
   "metadata": {},
   "source": [
    "### Test cases\n",
    " Running the cell below will load the test cases. ***Do not modify the cell***.\n",
    " - input: [12, 0]\n",
    " \t+ expected output: [1.0, 0.0, 0.0, 0.0]\n",
    " - input: [1, 30]\n",
    " \t+ expected output: [0.0, 0.85355339, 0.0, 1.46446609e-01]\n",
    " - input: [2, 45]\n",
    " \t+ expected output: [0.28263155, 0.28263155, 0.21736845, 0.21736845]\n",
    " - input: [10, 25]\n",
    " \t+ expected output: [0.05612163, 0.78167347, 0.01086567, 0.15133923]"
   ]
  },
  {
   "cell_type": "code",
   "execution_count": 5,
   "id": "f17ada78",
   "metadata": {},
   "outputs": [],
   "source": [
    "test_cases = [['[12, 0]', '[1.0, 0.0, 0.0, 0.0]'], ['[1, 30]', '[0.0, 0.85355339, 0.0, 1.46446609e-01]'], ['[2, 45]', '[0.28263155, 0.28263155, 0.21736845, 0.21736845]'], ['[10, 25]', '[0.05612163, 0.78167347, 0.01086567, 0.15133923]']]"
   ]
  },
  {
   "cell_type": "markdown",
   "id": "5bc5b6af",
   "metadata": {},
   "source": [
    "### Solution testing\n",
    " Once you have run every cell above, including the one with your code, the cell below will test your solution. Run the cell. If you are correct for all of the test cases, it means your solutions is correct. Otherwise, you need to double check your work. ***Do not modify the cell below.***"
   ]
  },
  {
   "cell_type": "code",
   "execution_count": 36,
   "id": "ea33be47",
   "metadata": {},
   "outputs": [
    {
     "name": "stdout",
     "output_type": "stream",
     "text": [
      "Running test case 0 with input '[12, 0]'...\n",
      "Have: '[1.0, 0.0, 0.0, 0.0]'. Want: '[1.0, 0.0, 0.0, 0.0]'.\n",
      "Correct!\n",
      "Running test case 1 with input '[1, 30]'...\n",
      "Have: '[6.84940981452146e-32, 0.8535533905932737, 1.1751729356691116e-32, 0.14644660940672624]'. Want: '[0.0, 0.85355339, 0.0, 0.146446609]'.\n",
      "Correct!\n",
      "Running test case 2 with input '[2, 45]'...\n",
      "Have: '[0.2826315480550128, 0.2826315480550129, 0.21736845194498705, 0.2173684519449871]'. Want: '[0.28263155, 0.28263155, 0.21736845, 0.21736845]'.\n",
      "Correct!\n",
      "Running test case 3 with input '[10, 25]'...\n",
      "Have: '[0.05612163037201416, 0.781673473435816, 0.010865667735766502, 0.15133922845640344]'. Want: '[0.05612163, 0.78167347, 0.01086567, 0.15133923]'.\n",
      "Correct!\n"
     ]
    }
   ],
   "source": [
    "for i, (input_, expected_output) in enumerate(test_cases):\n",
    "    print(f\"Running test case {i} with input '{input_}'...\")\n",
    "\n",
    "    try:\n",
    "        output = run(input_)\n",
    "\n",
    "    except Exception as exc:\n",
    "        print(f\"Runtime Error. {exc}\")\n",
    "\n",
    "    else:\n",
    "        if message := check(output, expected_output):\n",
    "            pass\n",
    "        else:\n",
    "            print(\"Correct!\")"
   ]
  },
  {
   "cell_type": "code",
   "execution_count": null,
   "id": "72ff4d36-64c8-458c-a234-0d4fdcb160d0",
   "metadata": {},
   "outputs": [],
   "source": []
  }
 ],
 "metadata": {
  "kernelspec": {
   "display_name": "Python 3 (ipykernel)",
   "language": "python",
   "name": "python3"
  },
  "language_info": {
   "codemirror_mode": {
    "name": "ipython",
    "version": 3
   },
   "file_extension": ".py",
   "mimetype": "text/x-python",
   "name": "python",
   "nbconvert_exporter": "python",
   "pygments_lexer": "ipython3",
   "version": "3.12.1"
  }
 },
 "nbformat": 4,
 "nbformat_minor": 5
}
