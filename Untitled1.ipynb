{
 "cells": [
  {
   "cell_type": "markdown",
   "id": "c7a5ce29-ba80-41a6-bc35-2cc7b32693b0",
   "metadata": {},
   "source": [
    "# Quantum RPN for unsigned integers with zx calculus\n",
    "## comparison before and after zx calculus optimization for different algorithms"
   ]
  },
  {
   "cell_type": "code",
   "execution_count": 1,
   "id": "d77a7c2c-c30e-4037-baf9-fa46a74aba47",
   "metadata": {},
   "outputs": [],
   "source": [
    "import pyzx\n",
    "import pennylane as qml\n",
    "from pennylane import numpy as np"
   ]
  },
  {
   "cell_type": "code",
   "execution_count": 2,
   "id": "b680b22a-1a0f-4eb3-bc46-0dae764c31d9",
   "metadata": {},
   "outputs": [
    {
     "data": {
      "text/plain": [
       "pennylane.numpy.tensor.tensor"
      ]
     },
     "execution_count": 2,
     "metadata": {},
     "output_type": "execute_result"
    }
   ],
   "source": [
    "type(np.array([2]))"
   ]
  },
  {
   "cell_type": "code",
   "execution_count": 15,
   "id": "2204a550-2758-4334-afd2-b55b235c5ac1",
   "metadata": {},
   "outputs": [],
   "source": [
    "def get_bit_field(k: int):\n",
    "    for digit in bin(k)[2:]:\n",
    "        yield 1 if digit=='1' else 0\n",
    "\n",
    "\n",
    "def pad_zero(bit_field, pad_size: int):\n",
    "    if pad_size > 0:\n",
    "        for _ in range(pad_size):\n",
    "            yield 0\n",
    "    for bit in bit_field:\n",
    "        yield bit\n",
    "\n",
    "\n",
    "def pre_process(a, b):\n",
    "    if isinstance(a, int):\n",
    "        a = list(get_bit_field(a))\n",
    "    if isinstance(b, int):\n",
    "        b = list(get_bit_field(b))\n",
    "    if len(a) != len(b):\n",
    "        a = list(pad_zero(a, len(b)-len(a)))\n",
    "        b = list(pad_zero(b, len(a)-len(b)))\n",
    "    return a, b\n",
    "\n",
    "def did_padding_work(a, b):\n",
    "    assert len(a) == len(b)\n",
    "    return len(a)"
   ]
  },
  {
   "cell_type": "code",
   "execution_count": 46,
   "id": "3401a12c-1a61-48aa-b8b1-10636a6f8cfa",
   "metadata": {},
   "outputs": [],
   "source": [
    "def load_to_wires(value, control, wires):\n",
    "    for j, wire in enumerate(wires):\n",
    "        qml.CRZ(value * np.pi / (2**j), wires=[control, wire])\n",
    "\n",
    "\n",
    "def add_(a_wires, b_wires, qft_wires):\n",
    "    qml.QFT(qft_wires)\n",
    "\n",
    "    # add a to the counter\n",
    "    for i, a_wire in enumerate(a_wires):\n",
    "        load_to_wires(2**(len(a_wires) - i - 1), a_wire, qft_wires)\n",
    "\n",
    "    # add b to the counter\n",
    "    for i, b_wire in enumerate(b_wires):\n",
    "        load_to_wires(2**(len(b_wires) - i - 1), b_wire, qft_wires)\n",
    "\n",
    "    # return to computational basis\n",
    "    qml.adjoint(qml.QFT)(wires=qft_wires)\n",
    "\n",
    "def add(a: int|list, b: int|list) -> (np.tensor, dict):\n",
    "    a, b = pre_process(a, b)\n",
    "    n = did_padding_work(a, b)\n",
    "    num_wires = 3*n + 1\n",
    "\n",
    "    dev = qml.device(\"default.qubit\", wires=num_wires, shots=1)\n",
    "    @qml.qnode(dev)\n",
    "    def circuit():\n",
    "        total_wires=list(range(num_wires))\n",
    "        a_wires = total_wires[:n]\n",
    "        b_wires = total_wires[n:2*n]\n",
    "        qft_wires = total_wires[2*n:]\n",
    "\n",
    "        qml.BasisEmbedding(features=a, wires=a_wires)\n",
    "        qml.BasisEmbedding(features=b, wires=b_wires)\n",
    "        \n",
    "\n",
    "        add_(a_wires, b_wires, qft_wires)\n",
    "\n",
    "        return qml.sample(wires=qft_wires)\n",
    "    return circuit, qml.specs(circuit)"
   ]
  },
  {
   "cell_type": "code",
   "execution_count": 116,
   "id": "3dd90821-399a-4781-8045-dfedd5679892",
   "metadata": {},
   "outputs": [],
   "source": [
    "def subtract_(a_wires, b_wires, qft_wires):\n",
    "    qml.broadcast(qml.PauliX, pattern=\"single\", wires=a_wires)\n",
    "    add_(a_wires, b_wires, qft_wires)\n",
    "    qml.broadcast(qml.PauliX, pattern=\"single\", wires=qft_wires)\n",
    "\n",
    "\n",
    "def subtract(a: int|list, b: int|list) -> (np.tensor, dict):\n",
    "    if b > a:\n",
    "        raise NotImplementedError(\"Arithmetic operations for negative integers are not supported yet\")\n",
    "\n",
    "    a, b = pre_process(a, b)\n",
    "    n = did_padding_work(a, b)\n",
    "    num_wires = 3*n + 1\n",
    "\n",
    "    dev = qml.device(\"default.qubit\", wires=num_wires, shots=1)\n",
    "    @qml.qnode(dev)\n",
    "    def circuit():\n",
    "        total_wires=list(range(num_wires))\n",
    "        a_wires = total_wires[:n]\n",
    "        b_wires = total_wires[n:2*n]\n",
    "        qft_wires = total_wires[2*n:]\n",
    "\n",
    "        qml.BasisEmbedding(features=a, wires=a_wires)\n",
    "        qml.BasisEmbedding(features=b, wires=b_wires)\n",
    "\n",
    "        subtract_(a_wires, b_wires, qft_wires)\n",
    "\n",
    "        return qml.sample(wires=qft_wires[1:])\n",
    "\n",
    "    return circuit, qml.specs(circuit)"
   ]
  },
  {
   "cell_type": "code",
   "execution_count": 117,
   "id": "ba3fd455-dcbe-4e38-af62-483ccff159a7",
   "metadata": {},
   "outputs": [],
   "source": [
    "result, stats = subtract(10, 10)\n",
    "# 1011\n",
    "# 1010\n",
    "\n",
    "#0100\n",
    "#1010\n",
    "#1110\n",
    "#0001\n"
   ]
  },
  {
   "cell_type": "code",
   "execution_count": 118,
   "id": "79c11956-2310-43e4-9f56-c235ef843941",
   "metadata": {},
   "outputs": [
    {
     "data": {
      "text/plain": [
       "tensor([0, 0, 1, 0], requires_grad=True)"
      ]
     },
     "execution_count": 118,
     "metadata": {},
     "output_type": "execute_result"
    }
   ],
   "source": [
    "result()"
   ]
  },
  {
   "cell_type": "code",
   "execution_count": null,
   "id": "06376a23-834b-4613-844d-538fcb744416",
   "metadata": {},
   "outputs": [],
   "source": []
  },
  {
   "cell_type": "code",
   "execution_count": null,
   "id": "0c7f8c9b-1d2e-4878-a8c5-e807f15f23ea",
   "metadata": {},
   "outputs": [],
   "source": []
  }
 ],
 "metadata": {
  "kernelspec": {
   "display_name": "Python 3 (ipykernel)",
   "language": "python",
   "name": "python3"
  },
  "language_info": {
   "codemirror_mode": {
    "name": "ipython",
    "version": 3
   },
   "file_extension": ".py",
   "mimetype": "text/x-python",
   "name": "python",
   "nbconvert_exporter": "python",
   "pygments_lexer": "ipython3",
   "version": "3.12.1"
  }
 },
 "nbformat": 4,
 "nbformat_minor": 5
}
